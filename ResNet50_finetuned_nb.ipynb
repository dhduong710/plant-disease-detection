{
 "cells": [
  {
   "cell_type": "code",
   "execution_count": 1,
   "id": "22417c2a",
   "metadata": {},
   "outputs": [],
   "source": [
    "import torch\n",
    "import torch.nn as nn\n",
    "import torch.optim as optim\n",
    "from torchvision import datasets, transforms, models\n",
    "from torch.utils.data import DataLoader"
   ]
  },
  {
   "cell_type": "code",
   "execution_count": 2,
   "id": "a8222426",
   "metadata": {},
   "outputs": [
    {
     "name": "stdout",
     "output_type": "stream",
     "text": [
      "Device: cuda\n"
     ]
    }
   ],
   "source": [
    "# Config\n",
    "\n",
    "BATCH_SIZE = 32\n",
    "IMG_SIZE = 224\n",
    "EPOCHS_PHASE_A = 10   \n",
    "EPOCHS_PHASE_B = 5    \n",
    "LR_PHASE_A = 1e-3\n",
    "LR_PHASE_B = 1e-4\n",
    "DATA_ROOT = r\"D:\\dataset_split\"\n",
    "N_LAST_LAYERS = 20  \n",
    "\n",
    "device = torch.device(\"cuda\" if torch.cuda.is_available() else \"cpu\")\n",
    "print(\"Device:\", device)"
   ]
  },
  {
   "cell_type": "code",
   "execution_count": 3,
   "id": "82f4f7c5",
   "metadata": {},
   "outputs": [
    {
     "name": "stdout",
     "output_type": "stream",
     "text": [
      "Classes: ['Pepper__bell___Bacterial_spot', 'Pepper__bell___healthy', 'Potato___Early_blight', 'Potato___Late_blight', 'Potato___healthy', 'Tomato_Bacterial_spot', 'Tomato_Early_blight', 'Tomato_Late_blight', 'Tomato_Leaf_Mold', 'Tomato_Septoria_leaf_spot', 'Tomato_Spider_mites_Two_spotted_spider_mite', 'Tomato__Target_Spot', 'Tomato__Tomato_YellowLeaf__Curl_Virus', 'Tomato__Tomato_mosaic_virus', 'Tomato_healthy']\n"
     ]
    }
   ],
   "source": [
    "# Data\n",
    "\n",
    "train_transform = transforms.Compose([\n",
    "    transforms.Resize((IMG_SIZE, IMG_SIZE)),\n",
    "    transforms.RandomHorizontalFlip(),\n",
    "    transforms.RandomRotation(15),\n",
    "    transforms.ColorJitter(brightness = 0.2, contrast = 0.2, saturation = 0.2),\n",
    "    transforms.ToTensor(),\n",
    "])\n",
    "\n",
    "val_transform = transforms.Compose([\n",
    "    transforms.Resize((IMG_SIZE, IMG_SIZE)),\n",
    "    transforms.ToTensor()\n",
    "])\n",
    "\n",
    "train_dataset = datasets.ImageFolder(root = f\"{DATA_ROOT}/train\", transform = train_transform)\n",
    "val_dataset   = datasets.ImageFolder(root = f\"{DATA_ROOT}/val\", transform = val_transform)\n",
    "test_dataset  = datasets.ImageFolder(root = f\"{DATA_ROOT}/test\", transform = val_transform)\n",
    "\n",
    "train_loader = DataLoader(train_dataset, batch_size = BATCH_SIZE, shuffle = True)\n",
    "val_loader   = DataLoader(val_dataset, batch_size = BATCH_SIZE, shuffle = False)\n",
    "test_loader  = DataLoader(test_dataset, batch_size = BATCH_SIZE, shuffle = False)\n",
    "\n",
    "num_classes = len(train_dataset.classes)\n",
    "print(\"Classes:\", train_dataset.classes)\n"
   ]
  },
  {
   "cell_type": "code",
   "execution_count": 4,
   "id": "8c3a093f",
   "metadata": {},
   "outputs": [
    {
     "name": "stderr",
     "output_type": "stream",
     "text": [
      "d:\\Anaconda\\envs\\plant\\lib\\site-packages\\torchvision\\models\\_utils.py:208: UserWarning: The parameter 'pretrained' is deprecated since 0.13 and may be removed in the future, please use 'weights' instead.\n",
      "  warnings.warn(\n",
      "d:\\Anaconda\\envs\\plant\\lib\\site-packages\\torchvision\\models\\_utils.py:223: UserWarning: Arguments other than a weight enum or `None` for 'weights' are deprecated since 0.13 and may be removed in the future. The current behavior is equivalent to passing `weights=ResNet50_Weights.IMAGENET1K_V1`. You can also use `weights=ResNet50_Weights.DEFAULT` to get the most up-to-date weights.\n",
      "  warnings.warn(msg)\n"
     ]
    },
    {
     "name": "stdout",
     "output_type": "stream",
     "text": [
      "Phase A Epoch [1/10] Train Loss: 0.8282 | Train Acc: 0.7624 | Val Loss: 0.4253 | Val Acc: 0.8766\n",
      "Phase A Epoch [2/10] Train Loss: 0.4363 | Train Acc: 0.8647 | Val Loss: 0.3722 | Val Acc: 0.8780\n",
      "Phase A Epoch [3/10] Train Loss: 0.3681 | Train Acc: 0.8845 | Val Loss: 0.3119 | Val Acc: 0.8994\n",
      "Phase A Epoch [4/10] Train Loss: 0.3384 | Train Acc: 0.8886 | Val Loss: 0.2582 | Val Acc: 0.9159\n",
      "Phase A Epoch [5/10] Train Loss: 0.3043 | Train Acc: 0.9011 | Val Loss: 0.2744 | Val Acc: 0.9018\n",
      "Phase A Epoch [6/10] Train Loss: 0.2847 | Train Acc: 0.9040 | Val Loss: 0.2523 | Val Acc: 0.9101\n",
      "Phase A Epoch [7/10] Train Loss: 0.2844 | Train Acc: 0.9056 | Val Loss: 0.2187 | Val Acc: 0.9252\n",
      "Phase A Epoch [8/10] Train Loss: 0.2764 | Train Acc: 0.9066 | Val Loss: 0.2018 | Val Acc: 0.9329\n",
      "Phase A Epoch [9/10] Train Loss: 0.2547 | Train Acc: 0.9152 | Val Loss: 0.2162 | Val Acc: 0.9247\n",
      "Phase A Epoch [10/10] Train Loss: 0.2608 | Train Acc: 0.9115 | Val Loss: 0.2055 | Val Acc: 0.9315\n",
      "Phase B Epoch [1/5] Train Loss: 0.2127 | Train Acc: 0.9295 | Val Loss: 0.1149 | Val Acc: 0.9568\n",
      "Phase B Epoch [2/5] Train Loss: 0.1061 | Train Acc: 0.9646 | Val Loss: 0.1159 | Val Acc: 0.9631\n",
      "Phase B Epoch [3/5] Train Loss: 0.0797 | Train Acc: 0.9729 | Val Loss: 0.0591 | Val Acc: 0.9820\n",
      "Phase B Epoch [4/5] Train Loss: 0.0551 | Train Acc: 0.9818 | Val Loss: 0.0564 | Val Acc: 0.9801\n",
      "Phase B Epoch [5/5] Train Loss: 0.0548 | Train Acc: 0.9814 | Val Loss: 0.0795 | Val Acc: 0.9733\n"
     ]
    }
   ],
   "source": [
    "# Model: ResNet50\n",
    "\n",
    "resnet = models.resnet50(pretrained=True)\n",
    "\n",
    "# Replace FC layer\n",
    "resnet.fc = nn.Linear(resnet.fc.in_features, num_classes)\n",
    "model = resnet.to(device)\n",
    "\n",
    "criterion = nn.CrossEntropyLoss()\n",
    "\n",
    "\n",
    "# Training function\n",
    "\n",
    "def train_model(model, criterion, optimizer, train_loader, val_loader, epochs, phase_name = \"Phase\"):\n",
    "    for epoch in range(epochs):\n",
    "        # Train\n",
    "        model.train()\n",
    "        running_loss, running_correct = 0.0, 0\n",
    "        for imgs, labels in train_loader:\n",
    "            imgs, labels = imgs.to(device), labels.to(device)\n",
    "            optimizer.zero_grad()\n",
    "            outputs = model(imgs)\n",
    "            loss = criterion(outputs, labels)\n",
    "            loss.backward()\n",
    "            optimizer.step()\n",
    "\n",
    "            running_loss += loss.item() * imgs.size(0)\n",
    "            running_correct += (outputs.argmax(1) == labels).sum().item()\n",
    "\n",
    "        train_loss = running_loss / len(train_loader.dataset)\n",
    "        train_acc = running_correct / len(train_loader.dataset)\n",
    "\n",
    "        # Validation\n",
    "        model.eval()\n",
    "        val_loss, val_correct = 0.0, 0\n",
    "        with torch.no_grad():\n",
    "            for imgs, labels in val_loader:\n",
    "                imgs, labels = imgs.to(device), labels.to(device)\n",
    "                outputs = model(imgs)\n",
    "                loss = criterion(outputs, labels)\n",
    "                val_loss += loss.item() * imgs.size(0)\n",
    "                val_correct += (outputs.argmax(1) == labels).sum().item()\n",
    "\n",
    "        val_loss /= len(val_loader.dataset)\n",
    "        val_acc = val_correct / len(val_loader.dataset)\n",
    "\n",
    "        print(f\"{phase_name} Epoch [{epoch+1}/{epochs}] \"\n",
    "              f\"Train Loss: {train_loss:.4f} | Train Acc: {train_acc:.4f} \"\n",
    "              f\"| Val Loss: {val_loss:.4f} | Val Acc: {val_acc:.4f}\")\n",
    "    return model\n",
    "\n",
    "\n",
    "# Phase A: Train classifier\n",
    "\n",
    "for param in model.parameters():\n",
    "    param.requires_grad = False\n",
    "for param in model.fc.parameters():\n",
    "    param.requires_grad = True\n",
    "\n",
    "optimizer = optim.Adam(model.fc.parameters(), lr = LR_PHASE_A)\n",
    "model = train_model(model, criterion, optimizer, train_loader, val_loader, \n",
    "                    epochs = EPOCHS_PHASE_A, phase_name = \"Phase A\")\n",
    "\n",
    "\n",
    "# Phase B: Fine-tuning backbone\n",
    "\n",
    "# Freeze all first\n",
    "for name, param in model.named_parameters():\n",
    "    param.requires_grad = False\n",
    "\n",
    "# Unfreeze last N layers + FC\n",
    "for name, param in list(model.named_parameters())[-N_LAST_LAYERS:]:\n",
    "    param.requires_grad = True\n",
    "\n",
    "# Optimizer (only train unfrozen layers)\n",
    "optimizer = optim.Adam(filter(lambda p: p.requires_grad, model.parameters()), lr = LR_PHASE_B)\n",
    "\n",
    "# Train Phase B\n",
    "model = train_model(model, criterion, optimizer, train_loader, val_loader, \n",
    "                    epochs = EPOCHS_PHASE_B, phase_name = \"Phase B\")\n"
   ]
  },
  {
   "cell_type": "code",
   "execution_count": 5,
   "id": "a96a90d2",
   "metadata": {},
   "outputs": [
    {
     "name": "stdout",
     "output_type": "stream",
     "text": [
      "Test Loss: 0.0603 | Test Acc: 0.9764\n"
     ]
    }
   ],
   "source": [
    "# Test\n",
    "\n",
    "model.eval()\n",
    "test_loss, test_correct = 0.0, 0\n",
    "with torch.no_grad():\n",
    "    for imgs, labels in test_loader:\n",
    "        imgs, labels = imgs.to(device), labels.to(device)\n",
    "        outputs = model(imgs)\n",
    "        loss = criterion(outputs, labels)\n",
    "        test_loss += loss.item() * imgs.size(0)\n",
    "        test_correct += (outputs.argmax(1) == labels).sum().item()\n",
    "\n",
    "test_loss /= len(test_loader.dataset)\n",
    "test_acc = test_correct / len(test_loader.dataset)\n",
    "print(f\"Test Loss: {test_loss:.4f} | Test Acc: {test_acc:.4f}\")\n",
    "\n",
    "\n",
    "# Save\n",
    "\n",
    "torch.save(model.state_dict(), \"D:/saved_models/resnet50_finetuned.pt\")"
   ]
  }
 ],
 "metadata": {
  "kernelspec": {
   "display_name": "plant",
   "language": "python",
   "name": "python3"
  },
  "language_info": {
   "codemirror_mode": {
    "name": "ipython",
    "version": 3
   },
   "file_extension": ".py",
   "mimetype": "text/x-python",
   "name": "python",
   "nbconvert_exporter": "python",
   "pygments_lexer": "ipython3",
   "version": "3.10.18"
  }
 },
 "nbformat": 4,
 "nbformat_minor": 5
}
