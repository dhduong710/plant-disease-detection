{
 "cells": [
  {
   "cell_type": "code",
   "execution_count": 1,
   "id": "baa440da",
   "metadata": {},
   "outputs": [
    {
     "name": "stdout",
     "output_type": "stream",
     "text": [
      "Pepper__bell___Bacterial_spot: 997 images\n",
      "Pepper__bell___healthy: 1478 images\n",
      "Potato___Early_blight: 1000 images\n",
      "Potato___healthy: 152 images\n",
      "Potato___Late_blight: 1000 images\n",
      "Tomato_Bacterial_spot: 2127 images\n",
      "Tomato_Early_blight: 1000 images\n",
      "Tomato_healthy: 1591 images\n",
      "Tomato_Late_blight: 1909 images\n",
      "Tomato_Leaf_Mold: 952 images\n",
      "Tomato_Septoria_leaf_spot: 1771 images\n",
      "Tomato_Spider_mites_Two_spotted_spider_mite: 1676 images\n",
      "Tomato__Target_Spot: 1404 images\n",
      "Tomato__Tomato_mosaic_virus: 373 images\n",
      "Tomato__Tomato_YellowLeaf__Curl_Virus: 3208 images\n",
      "\n",
      "Total images in dataset: 20638\n"
     ]
    }
   ],
   "source": [
    "import os\n",
    "\n",
    "root = r\"D:\\PlantVillage\"\n",
    "\n",
    "class_counts = {}\n",
    "total_count = 0\n",
    "\n",
    "for class_name in os.listdir(root):\n",
    "    class_path = os.path.join(root, class_name)\n",
    "    if os.path.isdir(class_path):  \n",
    "        count = 0\n",
    "        for file in os.listdir(class_path):\n",
    "            if file.lower().endswith(('.png', '.jpg', '.jpeg')):\n",
    "                count += 1\n",
    "        class_counts[class_name] = count\n",
    "        total_count += count\n",
    "\n",
    "for cls, cnt in class_counts.items():\n",
    "    print(f\"{cls}: {cnt} images\")\n",
    "\n",
    "print(f\"\\nTotal images in dataset: {total_count}\")\n"
   ]
  }
 ],
 "metadata": {
  "kernelspec": {
   "display_name": "plant",
   "language": "python",
   "name": "python3"
  },
  "language_info": {
   "codemirror_mode": {
    "name": "ipython",
    "version": 3
   },
   "file_extension": ".py",
   "mimetype": "text/x-python",
   "name": "python",
   "nbconvert_exporter": "python",
   "pygments_lexer": "ipython3",
   "version": "3.10.18"
  }
 },
 "nbformat": 4,
 "nbformat_minor": 5
}
