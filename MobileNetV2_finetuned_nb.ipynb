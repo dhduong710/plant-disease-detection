{
 "cells": [
  {
   "cell_type": "code",
   "execution_count": 1,
   "id": "c937e8d6",
   "metadata": {},
   "outputs": [],
   "source": [
    "import torch\n",
    "import torch.nn as nn\n",
    "import torch.optim as optim\n",
    "from torchvision import datasets, transforms, models\n",
    "from torch.utils.data import DataLoader\n"
   ]
  },
  {
   "cell_type": "code",
   "execution_count": 2,
   "id": "ad4eb112",
   "metadata": {},
   "outputs": [
    {
     "name": "stdout",
     "output_type": "stream",
     "text": [
      "Device: cuda\n"
     ]
    }
   ],
   "source": [
    "# Config\n",
    "\n",
    "BATCH_SIZE = 32\n",
    "IMG_SIZE = 224\n",
    "EPOCHS_PHASE_A = 10   \n",
    "EPOCHS_PHASE_B = 5   \n",
    "LR_PHASE_A = 1e-3\n",
    "LR_PHASE_B = 1e-4\n",
    "DATA_ROOT = r\"D:\\dataset_split\"\n",
    "N_LAST_LAYERS = 20   \n",
    "\n",
    "device = torch.device(\"cuda\" if torch.cuda.is_available() else \"cpu\")\n",
    "print(\"Device:\", device)\n"
   ]
  },
  {
   "cell_type": "code",
   "execution_count": 3,
   "id": "0e47fc8e",
   "metadata": {},
   "outputs": [
    {
     "name": "stdout",
     "output_type": "stream",
     "text": [
      "Classes: ['Pepper__bell___Bacterial_spot', 'Pepper__bell___healthy', 'Potato___Early_blight', 'Potato___Late_blight', 'Potato___healthy', 'Tomato_Bacterial_spot', 'Tomato_Early_blight', 'Tomato_Late_blight', 'Tomato_Leaf_Mold', 'Tomato_Septoria_leaf_spot', 'Tomato_Spider_mites_Two_spotted_spider_mite', 'Tomato__Target_Spot', 'Tomato__Tomato_YellowLeaf__Curl_Virus', 'Tomato__Tomato_mosaic_virus', 'Tomato_healthy']\n"
     ]
    }
   ],
   "source": [
    "# Data\n",
    "\n",
    "train_transform = transforms.Compose([\n",
    "    transforms.Resize((IMG_SIZE, IMG_SIZE)),\n",
    "    transforms.RandomHorizontalFlip(),\n",
    "    transforms.RandomRotation(15),\n",
    "    transforms.ColorJitter(brightness = 0.2, contrast = 0.2, saturation = 0.2),\n",
    "    transforms.ToTensor(),\n",
    "])\n",
    "\n",
    "val_transform = transforms.Compose([\n",
    "    transforms.Resize((IMG_SIZE, IMG_SIZE)),\n",
    "    transforms.ToTensor()\n",
    "])\n",
    "\n",
    "train_dataset = datasets.ImageFolder(root = f\"{DATA_ROOT}/train\", transform = train_transform)\n",
    "val_dataset   = datasets.ImageFolder(root = f\"{DATA_ROOT}/val\", transform = val_transform)\n",
    "test_dataset  = datasets.ImageFolder(root = f\"{DATA_ROOT}/test\", transform = val_transform)\n",
    "\n",
    "train_loader = DataLoader(train_dataset, batch_size = BATCH_SIZE, shuffle = True)\n",
    "val_loader   = DataLoader(val_dataset, batch_size = BATCH_SIZE, shuffle = False)\n",
    "test_loader  = DataLoader(test_dataset, batch_size = BATCH_SIZE, shuffle = False)\n",
    "\n",
    "num_classes = len(train_dataset.classes)\n",
    "print(\"Classes:\", train_dataset.classes)\n"
   ]
  },
  {
   "cell_type": "code",
   "execution_count": 4,
   "id": "b2961864",
   "metadata": {},
   "outputs": [
    {
     "name": "stderr",
     "output_type": "stream",
     "text": [
      "d:\\Anaconda\\envs\\plant\\lib\\site-packages\\torchvision\\models\\_utils.py:208: UserWarning: The parameter 'pretrained' is deprecated since 0.13 and may be removed in the future, please use 'weights' instead.\n",
      "  warnings.warn(\n",
      "d:\\Anaconda\\envs\\plant\\lib\\site-packages\\torchvision\\models\\_utils.py:223: UserWarning: Arguments other than a weight enum or `None` for 'weights' are deprecated since 0.13 and may be removed in the future. The current behavior is equivalent to passing `weights=MobileNet_V2_Weights.IMAGENET1K_V1`. You can also use `weights=MobileNet_V2_Weights.DEFAULT` to get the most up-to-date weights.\n",
      "  warnings.warn(msg)\n"
     ]
    },
    {
     "name": "stdout",
     "output_type": "stream",
     "text": [
      "Phase A Epoch [1/10] Train Loss: 0.7052 | Train Acc: 0.8058 | Val Loss: 0.3265 | Val Acc: 0.9086\n",
      "Phase A Epoch [2/10] Train Loss: 0.3735 | Train Acc: 0.8831 | Val Loss: 0.2398 | Val Acc: 0.9295\n",
      "Phase A Epoch [3/10] Train Loss: 0.3197 | Train Acc: 0.8980 | Val Loss: 0.1931 | Val Acc: 0.9402\n",
      "Phase A Epoch [4/10] Train Loss: 0.2986 | Train Acc: 0.8996 | Val Loss: 0.1888 | Val Acc: 0.9436\n",
      "Phase A Epoch [5/10] Train Loss: 0.2850 | Train Acc: 0.9041 | Val Loss: 0.1953 | Val Acc: 0.9359\n",
      "Phase A Epoch [6/10] Train Loss: 0.2850 | Train Acc: 0.9054 | Val Loss: 0.1814 | Val Acc: 0.9402\n",
      "Phase A Epoch [7/10] Train Loss: 0.2678 | Train Acc: 0.9116 | Val Loss: 0.1745 | Val Acc: 0.9397\n",
      "Phase A Epoch [8/10] Train Loss: 0.2619 | Train Acc: 0.9106 | Val Loss: 0.1921 | Val Acc: 0.9320\n",
      "Phase A Epoch [9/10] Train Loss: 0.2571 | Train Acc: 0.9138 | Val Loss: 0.1939 | Val Acc: 0.9363\n",
      "Phase A Epoch [10/10] Train Loss: 0.2564 | Train Acc: 0.9127 | Val Loss: 0.1397 | Val Acc: 0.9563\n",
      "Phase B Epoch [1/5] Train Loss: 0.2066 | Train Acc: 0.9292 | Val Loss: 0.0819 | Val Acc: 0.9704\n",
      "Phase B Epoch [2/5] Train Loss: 0.1358 | Train Acc: 0.9512 | Val Loss: 0.0878 | Val Acc: 0.9704\n",
      "Phase B Epoch [3/5] Train Loss: 0.1022 | Train Acc: 0.9648 | Val Loss: 0.0522 | Val Acc: 0.9820\n",
      "Phase B Epoch [4/5] Train Loss: 0.0838 | Train Acc: 0.9719 | Val Loss: 0.0444 | Val Acc: 0.9840\n",
      "Phase B Epoch [5/5] Train Loss: 0.0775 | Train Acc: 0.9737 | Val Loss: 0.0453 | Val Acc: 0.9825\n"
     ]
    }
   ],
   "source": [
    "# Model: MobileNetV2\n",
    "\n",
    "mobilenet = models.mobilenet_v2(pretrained=True)\n",
    "\n",
    "# Replace classifier\n",
    "mobilenet.classifier[1] = nn.Linear(mobilenet.classifier[1].in_features, num_classes)\n",
    "model = mobilenet.to(device)\n",
    "\n",
    "criterion = nn.CrossEntropyLoss()\n",
    "\n",
    "\n",
    "# Training function\n",
    "\n",
    "def train_model(model, criterion, optimizer, train_loader, val_loader, epochs, phase_name = \"Phase\"):\n",
    "    for epoch in range(epochs):\n",
    "        # Train\n",
    "        model.train()\n",
    "        running_loss, running_correct = 0.0, 0\n",
    "        for imgs, labels in train_loader:\n",
    "            imgs, labels = imgs.to(device), labels.to(device)\n",
    "            optimizer.zero_grad()\n",
    "            outputs = model(imgs)\n",
    "            loss = criterion(outputs, labels)\n",
    "            loss.backward()\n",
    "            optimizer.step()\n",
    "\n",
    "            running_loss += loss.item() * imgs.size(0)\n",
    "            running_correct += (outputs.argmax(1) == labels).sum().item()\n",
    "\n",
    "        train_loss = running_loss / len(train_loader.dataset)\n",
    "        train_acc = running_correct / len(train_loader.dataset)\n",
    "\n",
    "        # Validation\n",
    "        model.eval()\n",
    "        val_loss, val_correct = 0.0, 0\n",
    "        with torch.no_grad():\n",
    "            for imgs, labels in val_loader:\n",
    "                imgs, labels = imgs.to(device), labels.to(device)\n",
    "                outputs = model(imgs)\n",
    "                loss = criterion(outputs, labels)\n",
    "                val_loss += loss.item() * imgs.size(0)\n",
    "                val_correct += (outputs.argmax(1) == labels).sum().item()\n",
    "\n",
    "        val_loss /= len(val_loader.dataset)\n",
    "        val_acc = val_correct / len(val_loader.dataset)\n",
    "\n",
    "        print(f\"{phase_name} Epoch [{epoch+1}/{epochs}] \"\n",
    "              f\"Train Loss: {train_loss:.4f} | Train Acc: {train_acc:.4f} \"\n",
    "              f\"| Val Loss: {val_loss:.4f} | Val Acc: {val_acc:.4f}\")\n",
    "    return model\n",
    "\n",
    "\n",
    "# Phase A: Train classifier\n",
    "\n",
    "for param in model.parameters():\n",
    "    param.requires_grad = False\n",
    "for param in model.classifier[1].parameters():\n",
    "    param.requires_grad = True\n",
    "\n",
    "optimizer = optim.Adam(model.classifier[1].parameters(), lr = LR_PHASE_A)\n",
    "model = train_model(model, criterion, optimizer, train_loader, val_loader,\n",
    "                    epochs = EPOCHS_PHASE_A, phase_name = \"Phase A\")\n",
    "\n",
    "\n",
    "# Phase B: Fine-tuning last N layers\n",
    "\n",
    "# Freeze all first\n",
    "for name, param in model.named_parameters():\n",
    "    param.requires_grad = False\n",
    "\n",
    "# Unfreeze last N layers + classifier\n",
    "for name, param in list(model.named_parameters())[-N_LAST_LAYERS:]:\n",
    "    param.requires_grad = True\n",
    "\n",
    "# Optimizer (only train unfrozen layers)\n",
    "optimizer = optim.Adam(filter(lambda p: p.requires_grad, model.parameters()), lr = LR_PHASE_B)\n",
    "\n",
    "# Train Phase B\n",
    "model = train_model(model, criterion, optimizer, train_loader, val_loader,\n",
    "                    epochs = EPOCHS_PHASE_B, phase_name = \"Phase B\")"
   ]
  },
  {
   "cell_type": "code",
   "execution_count": 5,
   "id": "06ad0213",
   "metadata": {},
   "outputs": [
    {
     "name": "stdout",
     "output_type": "stream",
     "text": [
      "Test Loss: 0.0730 | Test Acc: 0.9735\n"
     ]
    }
   ],
   "source": [
    "# Test\n",
    "\n",
    "model.eval()\n",
    "test_loss, test_correct = 0.0, 0\n",
    "with torch.no_grad():\n",
    "    for imgs, labels in test_loader:\n",
    "        imgs, labels = imgs.to(device), labels.to(device)\n",
    "        outputs = model(imgs)\n",
    "        loss = criterion(outputs, labels)\n",
    "        test_loss += loss.item() * imgs.size(0)\n",
    "        test_correct += (outputs.argmax(1) == labels).sum().item()\n",
    "\n",
    "test_loss /= len(test_loader.dataset)\n",
    "test_acc = test_correct / len(test_loader.dataset)\n",
    "print(f\"Test Loss: {test_loss:.4f} | Test Acc: {test_acc:.4f}\")\n",
    "\n",
    "\n",
    "# Save\n",
    "\n",
    "torch.save(model.state_dict(), \"D:/saved_models/mobilenetv2_finetuned.pt\")\n"
   ]
  }
 ],
 "metadata": {
  "kernelspec": {
   "display_name": "plant",
   "language": "python",
   "name": "python3"
  },
  "language_info": {
   "codemirror_mode": {
    "name": "ipython",
    "version": 3
   },
   "file_extension": ".py",
   "mimetype": "text/x-python",
   "name": "python",
   "nbconvert_exporter": "python",
   "pygments_lexer": "ipython3",
   "version": "3.10.18"
  }
 },
 "nbformat": 4,
 "nbformat_minor": 5
}
